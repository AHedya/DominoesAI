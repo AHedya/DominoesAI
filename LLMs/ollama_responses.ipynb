{
 "cells": [
  {
   "cell_type": "code",
   "execution_count": 1,
   "metadata": {},
   "outputs": [
    {
     "name": "stdout",
     "output_type": "stream",
     "text": [
      "analyzing:\n",
      "    The ground tiles show a pattern of triple and double combinations. The best strategy would be to place a double early on to control the board and potentially block the opponent's play. With my hand, I could consider placing either [2 | 2] or [1 | 1], as both are doubles and could be beneficial in the long run. However, since I have [1 | 1] in my hand and it's a unique tile, it might be more risky to play it first.\n",
      "\n",
      "my choice is:\n",
      "    2\n"
     ]
    }
   ],
   "source": [
    "from ollama import chat\n",
    "from ollama import ChatResponse\n",
    "\n",
    "from templates import TEMPS\n",
    "\n",
    "model= 'hf.co/bartowski/aya-23-8B-GGUF:Q5_K_M'\n",
    "\n",
    "domino_state=\"\"\"input: \n",
    "    ground_tiles = [[2 | 3],[3 | 3],[3 | 6],[6 | 5],[5 | 5],[5 | 0],[0 | 4],[4 | 4]]\n",
    "    your_hand =\n",
    "        0: [4 | 1]    \n",
    "        1: [2 | 2]\n",
    "        2: [2 | 0]\n",
    "        ---[1 | 1]\n",
    "        ---[6 | 1]\n",
    "    num_rest_tile = 8\n",
    "    num_opponent_tile = 4\n",
    "\"\"\"\n",
    "\n",
    "response: ChatResponse = chat(model=model, messages=[\n",
    "    {\n",
    "        'role': 'system',\n",
    "        'content': TEMPS['few_shots'],\n",
    "    },\n",
    "    {\n",
    "        'role': 'user',\n",
    "        'content': domino_state,\n",
    "    }\n",
    "    \n",
    "])\n",
    "print(response['message']['content'])"
   ]
  }
 ],
 "metadata": {
  "kernelspec": {
   "display_name": "Python 3",
   "language": "python",
   "name": "python3"
  },
  "language_info": {
   "codemirror_mode": {
    "name": "ipython",
    "version": 3
   },
   "file_extension": ".py",
   "mimetype": "text/x-python",
   "name": "python",
   "nbconvert_exporter": "python",
   "pygments_lexer": "ipython3",
   "version": "3.10.15"
  }
 },
 "nbformat": 4,
 "nbformat_minor": 2
}
