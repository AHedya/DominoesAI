{
 "cells": [
  {
   "cell_type": "code",
   "execution_count": 1,
   "metadata": {},
   "outputs": [
    {
     "name": "stdout",
     "output_type": "stream",
     "text": [
      "analyzing:\n",
      "    There are a few possible moves I can consider. [2 | 2] and [2 | 0] are doubles, which could be beneficial to play early to prevent them from dying. However, I also have [1 | 1] in my hand, which could be played as well. Playing [1 | 1] might be a safer move, as it is a single tile and could potentially block my opponent's play more effectively.\n",
      "\n",
      "my choice is:\n",
      "    2\n"
     ]
    }
   ],
   "source": [
    "from ollama import chat\n",
    "from ollama import ChatResponse\n",
    "\n",
    "from templates import TEMPS\n",
    "\n",
    "model= 'hf.co/bartowski/aya-23-8B-GGUF:Q5_K_M'\n",
    "\n",
    "domino_state=\"\"\"input: \n",
    "    ground_tiles = [[2 | 3],[3 | 3],[3 | 6],[6 | 5],[5 | 5],[5 | 0],[0 | 4],[4 | 4]]\n",
    "    your_hand =\n",
    "        0: [4 | 1]    \n",
    "        1: [2 | 2]\n",
    "        2: [2 | 0]\n",
    "        ---[1 | 1]\n",
    "        ---[6 | 1]\n",
    "    num_rest_tile = 8\n",
    "    num_opponent_tile = 4\n",
    "\"\"\"\n",
    "\n",
    "response: ChatResponse = chat(model=model, messages=[\n",
    "    {\n",
    "        'role': 'system',\n",
    "        'content': TEMPS['few_shots'],\n",
    "    },\n",
    "    {\n",
    "        'role': 'user',\n",
    "        'content': domino_state,\n",
    "    }\n",
    "    \n",
    "])\n",
    "print(response['message']['content'])"
   ]
  }
 ],
 "metadata": {
  "kernelspec": {
   "display_name": "Python 3",
   "language": "python",
   "name": "python3"
  },
  "language_info": {
   "codemirror_mode": {
    "name": "ipython",
    "version": 3
   },
   "file_extension": ".py",
   "mimetype": "text/x-python",
   "name": "python",
   "nbconvert_exporter": "python",
   "pygments_lexer": "ipython3",
   "version": "3.10.15"
  }
 },
 "nbformat": 4,
 "nbformat_minor": 2
}
