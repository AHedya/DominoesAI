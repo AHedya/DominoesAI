{
 "cells": [
  {
   "cell_type": "code",
   "execution_count": 1,
   "metadata": {},
   "outputs": [],
   "source": [
    "import os\n",
    "import google.generativeai as genai\n",
    "\n",
    "genai.configure(api_key=os.environ[\"GOOGLE_GEMINI\"])\n",
    "\n",
    "from templates import TEMPS\n",
    "sys_template = TEMPS['one_shot']\n",
    "\n",
    "model = genai.GenerativeModel(\n",
    "  #model_name=\"gemini-2.0-flash-thinking-exp-1219\",\n",
    "  model_name='gemini-1.5-flash',\n",
    "  system_instruction=sys_template\n",
    "  #generation_config=generation_config,\n",
    ")\n",
    "\n",
    "# chat_session = model.start_chat(\n",
    "#   history=[\n",
    "#   ]\n",
    "# )\n",
    "\n",
    "# response = chat_session.send_message(\"INSERT_INPUT_HERE\")\n",
    "\n",
    "# print(response.text)"
   ]
  },
  {
   "cell_type": "code",
   "execution_count": 11,
   "metadata": {},
   "outputs": [],
   "source": [
    "domino_state=\"\"\"input: \n",
    "    ground_tiles = [[2 | 3],[3 | 3],[3 | 6],[6 | 5],[5 | 5],[5 | 0],[0 | 4],[4 | 4]]\n",
    "    your_hand =\n",
    "        0: [4 | 4]    \n",
    "        1: [2 | 2]\n",
    "        ---[1 | 1]\n",
    "        ---[6 | 1]\n",
    "    num_rest_tile = 9\n",
    "    num_opponent_tile = 4\n",
    "\"\"\"\n"
   ]
  },
  {
   "cell_type": "code",
   "execution_count": 12,
   "metadata": {},
   "outputs": [],
   "source": [
    "chat = model.start_chat()\n",
    "#model.generate_content(s)"
   ]
  },
  {
   "cell_type": "code",
   "execution_count": 13,
   "metadata": {},
   "outputs": [],
   "source": [
    "response = chat.send_message(domino_state)\n"
   ]
  },
  {
   "cell_type": "code",
   "execution_count": 14,
   "metadata": {},
   "outputs": [
    {
     "name": "stdout",
     "output_type": "stream",
     "text": [
      "analyzing:\n",
      "The board is already quite long.  My hand contains [4 | 4] and [2 | 2]. Both are doubles.  Placing a double is generally beneficial, but given the length of the board and the relatively few tiles left, placing a double might not be the best strategy at this point.  It risks blocking the opponent and making it harder for them to play.  Since [4 | 4] is already on the board, using it would extend the board further which might not be the best idea.  Therefore, [2 | 2] might be a safer bet, to extend it, however it might cause issues if opponent has a double of 2.  Considering there are only 9 tiles left and opponent has 4 tiles, there's a high chance they will be able to place a tile.   The best strategy is to play a tile that is not a double.  However, I do not have any other tiles in my hand to choose from.\n",
      "\n",
      "my choice is:\n",
      "1\n",
      "\n"
     ]
    }
   ],
   "source": [
    "print(response.text)"
   ]
  },
  {
   "cell_type": "code",
   "execution_count": null,
   "metadata": {},
   "outputs": [],
   "source": []
  }
 ],
 "metadata": {
  "kernelspec": {
   "display_name": "Python 3",
   "language": "python",
   "name": "python3"
  },
  "language_info": {
   "codemirror_mode": {
    "name": "ipython",
    "version": 3
   },
   "file_extension": ".py",
   "mimetype": "text/x-python",
   "name": "python",
   "nbconvert_exporter": "python",
   "pygments_lexer": "ipython3",
   "version": "3.10.15"
  }
 },
 "nbformat": 4,
 "nbformat_minor": 2
}
