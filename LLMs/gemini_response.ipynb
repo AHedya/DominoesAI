{
 "cells": [
  {
   "cell_type": "code",
   "execution_count": 9,
   "metadata": {},
   "outputs": [
    {
     "data": {
      "text/plain": [
       "True"
      ]
     },
     "execution_count": 9,
     "metadata": {},
     "output_type": "execute_result"
    }
   ],
   "source": [
    "import os\n",
    "import google.generativeai as genai\n",
    "from dotenv import load_dotenv\n",
    "load_dotenv()\n"
   ]
  },
  {
   "cell_type": "code",
   "execution_count": 11,
   "metadata": {},
   "outputs": [],
   "source": [
    "\n",
    "genai.configure(api_key=os.environ[\"GOOGLE_GEMINI\"])\n",
    "\n",
    "from templates import TEMPS\n",
    "sys_template = TEMPS['few_shots']\n",
    "\n",
    "model = genai.GenerativeModel(\n",
    "  model_name=\"gemini-2.0-flash-thinking-exp-1219\",\n",
    "  system_instruction=sys_template\n",
    ")\n"
   ]
  },
  {
   "cell_type": "code",
   "execution_count": 14,
   "metadata": {},
   "outputs": [],
   "source": [
    "domino_state=\"\"\"input: \n",
    "    ground_tiles = [[2 | 3],[3 | 3],[3 | 6],[6 | 5],[5 | 5],[5 | 0],[0 | 4],[4 | 4]]\n",
    "    your_hand =\n",
    "        0: [4 | 1]    \n",
    "        1: [2 | 2]\n",
    "        ---[1 | 1]\n",
    "        ---[6 | 1]\n",
    "    num_rest_tile = 9\n",
    "    num_opponent_tile = 4\n",
    "\"\"\"\n"
   ]
  },
  {
   "cell_type": "code",
   "execution_count": 15,
   "metadata": {},
   "outputs": [
    {
     "name": "stdout",
     "output_type": "stream",
     "text": [
      "The user wants to play a domino given the current state of the game.\n",
      "The goal is to find the best possible move based on the given information.\n",
      "\n",
      "First, identify the possible moves by checking if any of the hand tiles can be placed on either end of the ground tiles.\n",
      "The current ends of the ground tiles are 2 and 4.\n",
      "\n",
      "The possible moves are:\n",
      "- `[4 | 1]` can be placed on the 4 end.\n",
      "- `[2 | 2]` can be placed on the 2 end.\n",
      "\n",
      "Consider the implications of each move:\n",
      "- Placing `[4 | 1]` leaves the 1 end open for the opponent.\n",
      "- Placing `[2 | 2]` leaves the 2 end open for the opponent.\n",
      "\n",
      "Consider the number of tiles the opponent has. The opponent has 4 tiles.\n",
      "\n",
      "Consider the remaining tiles. There are 9 remaining tiles.\n",
      "\n",
      "Is there any benefit to playing a double early? Yes, it prevents the double from being blocked.\n",
      "\n",
      "In this case, `[2 | 2]` is a double.\n",
      "\n",
      "If I play `[4 | 1]`, the next player could potentially play a tile with a 1.\n",
      "If I play `[2 | 2]`, the next player could potentially play a tile with a 2.\n",
      "\n",
      "Since the opponent has fewer tiles than the remaining tiles, there's a higher chance the opponent has a matching tile.\n",
      "\n",
      "Playing the double might be a safer option to block the 2 for the opponent.\n",
      "analyzing:\n",
      "currently, the ground tiles have ends with values 2 and 4.\n",
      "from my hand, the tile at index 0, `[4 | 1]`, can be placed on the 4 end.\n",
      "also, the tile at index 1, `[2 | 2]`, can be placed on the 2 end.\n",
      "\n",
      "placing `[4 | 1]` will expose the value 1.\n",
      "placing `[2 | 2]` will expose the value 2. It is also a double, which might be strategically beneficial to place early.\n",
      "\n",
      "considering the number of opponent tiles is 4, and the number of remaining tiles is 9, the opponent is relatively closer to finishing the game. placing a double might limit their options, although it exposes another 2.\n",
      "\n",
      "between placing `[4 | 1]` and `[2 | 2]`, placing the double `[2 | 2]` seems like a more strategic move to potentially hinder the opponent.\n",
      "\n",
      "my choice is:\n",
      "1\n",
      "\n"
     ]
    }
   ],
   "source": [
    "chat = model.start_chat()\n",
    "response = chat.send_message(domino_state)\n",
    "print(response.text)\n"
   ]
  },
  {
   "cell_type": "code",
   "execution_count": 13,
   "metadata": {},
   "outputs": [],
   "source": []
  },
  {
   "cell_type": "code",
   "execution_count": null,
   "metadata": {},
   "outputs": [],
   "source": []
  }
 ],
 "metadata": {
  "kernelspec": {
   "display_name": "Python 3",
   "language": "python",
   "name": "python3"
  },
  "language_info": {
   "codemirror_mode": {
    "name": "ipython",
    "version": 3
   },
   "file_extension": ".py",
   "mimetype": "text/x-python",
   "name": "python",
   "nbconvert_exporter": "python",
   "pygments_lexer": "ipython3",
   "version": "3.10.15"
  }
 },
 "nbformat": 4,
 "nbformat_minor": 2
}
